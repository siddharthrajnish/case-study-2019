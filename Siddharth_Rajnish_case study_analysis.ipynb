{
 "cells": [
  {
   "cell_type": "code",
   "execution_count": 1,
   "metadata": {},
   "outputs": [],
   "source": [
    "import os\n",
    "import numpy as np\n",
    "import pandas as pd\n",
    "pd.set_option('display.max_columns', 100)\n",
    "pd.set_option('display.float_format', lambda x: '%.3f' % x)\n",
    "\n",
    "import matplotlib.pyplot as plt\n",
    "%matplotlib inline\n",
    "import matplotlib.ticker as ticker\n",
    "import seaborn as sns\n",
    "\n",
    "from scipy import stats\n",
    "import statsmodels.api as sm\n",
    "from statsmodels.formula.api import ols\n",
    "from sklearn.model_selection import train_test_split"
   ]
  },
  {
   "cell_type": "markdown",
   "metadata": {},
   "source": [
    "#### Definining working folder and name of input data file"
   ]
  },
  {
   "cell_type": "code",
   "execution_count": 2,
   "metadata": {},
   "outputs": [],
   "source": [
    "working_folder = os.getcwd()\n",
    "operating_data_file_name = \"pmp_takehome_2019.csv\""
   ]
  },
  {
   "cell_type": "code",
   "execution_count": 3,
   "metadata": {},
   "outputs": [],
   "source": [
    "operating_data_df = pd.read_csv(working_folder+\"\\\\\"+operating_data_file_name)"
   ]
  },
  {
   "cell_type": "code",
   "execution_count": 4,
   "metadata": {},
   "outputs": [
    {
     "data": {
      "text/plain": [
       "(3996, 9)"
      ]
     },
     "execution_count": 4,
     "metadata": {},
     "output_type": "execute_result"
    }
   ],
   "source": [
    "operating_data_df.shape"
   ]
  },
  {
   "cell_type": "code",
   "execution_count": 5,
   "metadata": {},
   "outputs": [
    {
     "data": {
      "text/html": [
       "<div>\n",
       "<style scoped>\n",
       "    .dataframe tbody tr th:only-of-type {\n",
       "        vertical-align: middle;\n",
       "    }\n",
       "\n",
       "    .dataframe tbody tr th {\n",
       "        vertical-align: top;\n",
       "    }\n",
       "\n",
       "    .dataframe thead th {\n",
       "        text-align: right;\n",
       "    }\n",
       "</style>\n",
       "<table border=\"1\" class=\"dataframe\">\n",
       "  <thead>\n",
       "    <tr style=\"text-align: right;\">\n",
       "      <th></th>\n",
       "      <th>Location number</th>\n",
       "      <th>Month</th>\n",
       "      <th>State</th>\n",
       "      <th>Gross revenue</th>\n",
       "      <th>Fixed cost</th>\n",
       "      <th>Variable cost</th>\n",
       "      <th>Rental cost</th>\n",
       "      <th>Number of products</th>\n",
       "      <th>Owned</th>\n",
       "    </tr>\n",
       "  </thead>\n",
       "  <tbody>\n",
       "    <tr>\n",
       "      <th>0</th>\n",
       "      <td>1</td>\n",
       "      <td>1</td>\n",
       "      <td>TX</td>\n",
       "      <td>48628171.020</td>\n",
       "      <td>9218156.690</td>\n",
       "      <td>24278189.230</td>\n",
       "      <td>365880</td>\n",
       "      <td>4452</td>\n",
       "      <td>False</td>\n",
       "    </tr>\n",
       "    <tr>\n",
       "      <th>1</th>\n",
       "      <td>1</td>\n",
       "      <td>2</td>\n",
       "      <td>TX</td>\n",
       "      <td>48107179.240</td>\n",
       "      <td>10587747.350</td>\n",
       "      <td>25116844.410</td>\n",
       "      <td>365880</td>\n",
       "      <td>4452</td>\n",
       "      <td>False</td>\n",
       "    </tr>\n",
       "    <tr>\n",
       "      <th>2</th>\n",
       "      <td>1</td>\n",
       "      <td>3</td>\n",
       "      <td>TX</td>\n",
       "      <td>64352278.290</td>\n",
       "      <td>10193873.770</td>\n",
       "      <td>33703499.830</td>\n",
       "      <td>365880</td>\n",
       "      <td>4452</td>\n",
       "      <td>False</td>\n",
       "    </tr>\n",
       "    <tr>\n",
       "      <th>3</th>\n",
       "      <td>1</td>\n",
       "      <td>4</td>\n",
       "      <td>TX</td>\n",
       "      <td>45943677.960</td>\n",
       "      <td>8764165.000</td>\n",
       "      <td>24037719.470</td>\n",
       "      <td>365880</td>\n",
       "      <td>4452</td>\n",
       "      <td>False</td>\n",
       "    </tr>\n",
       "    <tr>\n",
       "      <th>4</th>\n",
       "      <td>1</td>\n",
       "      <td>5</td>\n",
       "      <td>TX</td>\n",
       "      <td>32761434.980</td>\n",
       "      <td>8022116.430</td>\n",
       "      <td>16432119.180</td>\n",
       "      <td>365880</td>\n",
       "      <td>4452</td>\n",
       "      <td>False</td>\n",
       "    </tr>\n",
       "    <tr>\n",
       "      <th>5</th>\n",
       "      <td>1</td>\n",
       "      <td>6</td>\n",
       "      <td>TX</td>\n",
       "      <td>50677036.260</td>\n",
       "      <td>9763597.300</td>\n",
       "      <td>26233794.370</td>\n",
       "      <td>365880</td>\n",
       "      <td>4452</td>\n",
       "      <td>False</td>\n",
       "    </tr>\n",
       "    <tr>\n",
       "      <th>6</th>\n",
       "      <td>1</td>\n",
       "      <td>7</td>\n",
       "      <td>TX</td>\n",
       "      <td>28215465.220</td>\n",
       "      <td>8245679.540</td>\n",
       "      <td>14457234.120</td>\n",
       "      <td>365880</td>\n",
       "      <td>4452</td>\n",
       "      <td>False</td>\n",
       "    </tr>\n",
       "    <tr>\n",
       "      <th>7</th>\n",
       "      <td>1</td>\n",
       "      <td>8</td>\n",
       "      <td>TX</td>\n",
       "      <td>38955413.840</td>\n",
       "      <td>7863853.690</td>\n",
       "      <td>19744464.290</td>\n",
       "      <td>365880</td>\n",
       "      <td>4452</td>\n",
       "      <td>False</td>\n",
       "    </tr>\n",
       "    <tr>\n",
       "      <th>8</th>\n",
       "      <td>1</td>\n",
       "      <td>9</td>\n",
       "      <td>TX</td>\n",
       "      <td>43602895.190</td>\n",
       "      <td>9067861.360</td>\n",
       "      <td>22138203.510</td>\n",
       "      <td>365880</td>\n",
       "      <td>4452</td>\n",
       "      <td>False</td>\n",
       "    </tr>\n",
       "    <tr>\n",
       "      <th>9</th>\n",
       "      <td>1</td>\n",
       "      <td>10</td>\n",
       "      <td>TX</td>\n",
       "      <td>52406102.980</td>\n",
       "      <td>9062239.730</td>\n",
       "      <td>26246199.300</td>\n",
       "      <td>365880</td>\n",
       "      <td>4452</td>\n",
       "      <td>False</td>\n",
       "    </tr>\n",
       "    <tr>\n",
       "      <th>10</th>\n",
       "      <td>1</td>\n",
       "      <td>11</td>\n",
       "      <td>TX</td>\n",
       "      <td>35787752.270</td>\n",
       "      <td>8447265.610</td>\n",
       "      <td>18430895.180</td>\n",
       "      <td>365880</td>\n",
       "      <td>4452</td>\n",
       "      <td>False</td>\n",
       "    </tr>\n",
       "    <tr>\n",
       "      <th>11</th>\n",
       "      <td>1</td>\n",
       "      <td>12</td>\n",
       "      <td>TX</td>\n",
       "      <td>55301461.380</td>\n",
       "      <td>11659020.220</td>\n",
       "      <td>28549551.000</td>\n",
       "      <td>365880</td>\n",
       "      <td>4452</td>\n",
       "      <td>False</td>\n",
       "    </tr>\n",
       "  </tbody>\n",
       "</table>\n",
       "</div>"
      ],
      "text/plain": [
       "    Location number  Month State  Gross revenue   Fixed cost  Variable cost  \\\n",
       "0                 1      1    TX   48628171.020  9218156.690   24278189.230   \n",
       "1                 1      2    TX   48107179.240 10587747.350   25116844.410   \n",
       "2                 1      3    TX   64352278.290 10193873.770   33703499.830   \n",
       "3                 1      4    TX   45943677.960  8764165.000   24037719.470   \n",
       "4                 1      5    TX   32761434.980  8022116.430   16432119.180   \n",
       "5                 1      6    TX   50677036.260  9763597.300   26233794.370   \n",
       "6                 1      7    TX   28215465.220  8245679.540   14457234.120   \n",
       "7                 1      8    TX   38955413.840  7863853.690   19744464.290   \n",
       "8                 1      9    TX   43602895.190  9067861.360   22138203.510   \n",
       "9                 1     10    TX   52406102.980  9062239.730   26246199.300   \n",
       "10                1     11    TX   35787752.270  8447265.610   18430895.180   \n",
       "11                1     12    TX   55301461.380 11659020.220   28549551.000   \n",
       "\n",
       "    Rental cost  Number of products  Owned  \n",
       "0        365880                4452  False  \n",
       "1        365880                4452  False  \n",
       "2        365880                4452  False  \n",
       "3        365880                4452  False  \n",
       "4        365880                4452  False  \n",
       "5        365880                4452  False  \n",
       "6        365880                4452  False  \n",
       "7        365880                4452  False  \n",
       "8        365880                4452  False  \n",
       "9        365880                4452  False  \n",
       "10       365880                4452  False  \n",
       "11       365880                4452  False  "
      ]
     },
     "execution_count": 5,
     "metadata": {},
     "output_type": "execute_result"
    }
   ],
   "source": [
    "operating_data_df.head(12)"
   ]
  },
  {
   "cell_type": "code",
   "execution_count": 6,
   "metadata": {},
   "outputs": [
    {
     "data": {
      "text/plain": [
       "Location number       0\n",
       "Month                 0\n",
       "State                 0\n",
       "Gross revenue         0\n",
       "Fixed cost            0\n",
       "Variable cost         0\n",
       "Rental cost           0\n",
       "Number of products    0\n",
       "Owned                 0\n",
       "dtype: int64"
      ]
     },
     "execution_count": 6,
     "metadata": {},
     "output_type": "execute_result"
    }
   ],
   "source": [
    "# Checking for missing values across the data\n",
    "operating_data_df.isna().sum()"
   ]
  },
  {
   "cell_type": "code",
   "execution_count": 7,
   "metadata": {},
   "outputs": [
    {
     "name": "stdout",
     "output_type": "stream",
     "text": [
      "\n",
      "All locations have 12 months of data\n"
     ]
    }
   ],
   "source": [
    "# Checking to make sure all locations have 12 months of data\n",
    "\n",
    "for loc, data in operating_data_df.groupby('Location number'):\n",
    "    count_issue=0\n",
    "    months_in_data = data['Month'].tolist()\n",
    "    months_in_data.sort()\n",
    "    if  months_in_data != list(range(1,13)):\n",
    "        count_issue+=1\n",
    "        print(f'''Location number {loc} does not have 12 months of data.''')\n",
    "        continue\n",
    "\n",
    "if count_issue==0:\n",
    "    print(\"\\nAll locations have 12 months of data\")"
   ]
  },
  {
   "cell_type": "markdown",
   "metadata": {},
   "source": [
    "## Part 1 - Summary statistics and plots"
   ]
  },
  {
   "cell_type": "code",
   "execution_count": 8,
   "metadata": {},
   "outputs": [],
   "source": [
    "# Creating new column to represent quarter number of each row in data\n",
    "operating_data_df['quarter'] = (operating_data_df['Month'] > 0) * 1 + (operating_data_df['Month'] > 3) * 1 \\\n",
    "                             + (operating_data_df['Month'] > 6) * 1 + (operating_data_df['Month'] > 9) * 1"
   ]
  },
  {
   "cell_type": "code",
   "execution_count": 9,
   "metadata": {},
   "outputs": [],
   "source": [
    "# Summarizing data by annual, monthly and quarterly timeframes \n",
    "operations_dict = {'State':'min',\n",
    "                   'Gross revenue':'sum',\n",
    "                   'Fixed cost':'sum',\n",
    "                   'Variable cost':'sum',\n",
    "                   'Rental cost':'sum',\n",
    "                   'Number of products':'mean',\n",
    "                   'Owned':'min'}\n",
    "\n",
    "annual_data = operating_data_df.groupby('Location number').agg(operations_dict).reset_index()\n",
    "\n",
    "monthly_data = operating_data_df.groupby('Month').agg(operations_dict).reset_index()\n",
    "\n",
    "quarterly_data = operating_data_df.groupby('quarter').agg(operations_dict).reset_index()"
   ]
  },
  {
   "cell_type": "markdown",
   "metadata": {},
   "source": [
    "#### 1) Looking across all locations, calculate the mean and median annual profit margin of a typical store. Does the profit margin across locations appear normally distributed? Please visualize."
   ]
  },
  {
   "cell_type": "code",
   "execution_count": 10,
   "metadata": {},
   "outputs": [],
   "source": [
    "annual_data['total_cost'] = annual_data[[x for x in annual_data.columns if 'cost' in x]].sum(axis=1) \n",
    "annual_data['profit'] = annual_data['Gross revenue'] - annual_data['total_cost']\n",
    "annual_data['profit_margin'] = annual_data['profit'] / annual_data['Gross revenue']"
   ]
  },
  {
   "cell_type": "code",
   "execution_count": 11,
   "metadata": {},
   "outputs": [
    {
     "name": "stdout",
     "output_type": "stream",
     "text": [
      "_______________________________________________________________________________\n",
      "\n",
      "Mean annual profit margin of a typical store is --> 24.86 %\n",
      "_______________________________________________________________________________\n"
     ]
    }
   ],
   "source": [
    "mean_profit_margin = annual_data['profit_margin'].mean()\n",
    "print(\"_______________________________________________________________________________\")\n",
    "print(f\"\\nMean annual profit margin of a typical store is --> {mean_profit_margin*100:.2f} %\")\n",
    "print(\"_______________________________________________________________________________\")"
   ]
  },
  {
   "cell_type": "code",
   "execution_count": 12,
   "metadata": {},
   "outputs": [
    {
     "name": "stdout",
     "output_type": "stream",
     "text": [
      "_______________________________________________________________________________\n",
      "\n",
      "Median annual profit margin of a typical store is --> 26.18 %\n",
      "_______________________________________________________________________________\n"
     ]
    }
   ],
   "source": [
    "median_profit_margin = annual_data['profit_margin'].median()\n",
    "print(\"_______________________________________________________________________________\")\n",
    "print(f\"\\nMedian annual profit margin of a typical store is --> {median_profit_margin*100:.2f} %\")\n",
    "print(\"_______________________________________________________________________________\")"
   ]
  },
  {
   "cell_type": "code",
   "execution_count": 13,
   "metadata": {},
   "outputs": [
    {
     "data": {
      "text/plain": [
       "count   333.000\n",
       "mean      0.249\n",
       "std       0.062\n",
       "min      -0.011\n",
       "25%       0.213\n",
       "50%       0.262\n",
       "75%       0.294\n",
       "max       0.402\n",
       "Name: profit_margin, dtype: float64"
      ]
     },
     "execution_count": 13,
     "metadata": {},
     "output_type": "execute_result"
    }
   ],
   "source": [
    "annual_data['profit_margin'].describe()"
   ]
  },
  {
   "cell_type": "code",
   "execution_count": 14,
   "metadata": {},
   "outputs": [
    {
     "data": {
      "image/png": "[encoded data removed]",
      "text/plain": [
       "<Figure size 720x576 with 1 Axes>"
      ]
     },
     "metadata": {
      "needs_background": "light"
     },
     "output_type": "display_data"
    }
   ],
   "source": [
    "plt.figure(figsize=(10, 8))\n",
    "\n",
    "ax = sns.distplot(annual_data['profit_margin'], hist=True, kde=False, color = 'darkblue', \n",
    "             bins=int((annual_data['profit_margin'].max()-annual_data['profit_margin'].min())/0.01),\n",
    "             hist_kws={'edgecolor':'black'},fit=stats.norm)\n",
    "\n",
    "tmp = ax.set(xlabel='Annual Profit Margin', ylabel='# of Stores')\n",
    "tmp2 = ax.set_xticklabels(['{:,.0%}'.format(x) for x in ax.get_xticks()])\n",
    "title = plt.title('Distribution of annual profit margin across stores')"
   ]
  },
  {
   "cell_type": "markdown",
   "metadata": {},
   "source": [
    "- On comparing distribution of profit margin to a normal distributed sample, profit margins don't seem to be normally distributed"
   ]
  },
  {
   "cell_type": "code",
   "execution_count": 15,
   "metadata": {},
   "outputs": [
    {
     "data": {
      "image/png": "[encoded data removed]",
      "text/plain": [
       "<Figure size 432x288 with 1 Axes>"
      ]
     },
     "metadata": {
      "needs_background": "light"
     },
     "output_type": "display_data"
    }
   ],
   "source": [
    "ax2 = plt.plot()\n",
    "res = stats.probplot(x=annual_data['profit_margin'], plot=plt) "
   ]
  },
  {
   "cell_type": "markdown",
   "metadata": {},
   "source": [
    "- From the shape of q-q plot, our profit margin distribution isn't normally distributed, instead the shape suggests we have a longer tail on the left"
   ]
  },
  {
   "cell_type": "code",
   "execution_count": 16,
   "metadata": {},
   "outputs": [
    {
     "data": {
      "text/plain": [
       "NormaltestResult(statistic=31.74720837715713, pvalue=1.2769717598778455e-07)"
      ]
     },
     "execution_count": 16,
     "metadata": {},
     "output_type": "execute_result"
    }
   ],
   "source": [
    "# Null hypothesis : Profit margins are normally distributed. \n",
    "# Result of hypothesis test suggests that null hypothesis can be rejectd\n",
    "\n",
    "stats.normaltest(annual_data['profit_margin'])"
   ]
  },
  {
   "cell_type": "markdown",
   "metadata": {},
   "source": [
    "- We can see from the normal test that the p value is very low.\n",
    "- Using an alpha of 0.001 , since p < alpha, we can reject the null hypothesis that the profit margins are normally distributed."
   ]
  },
  {
   "cell_type": "markdown",
   "metadata": {},
   "source": [
    "#### 2) Please plot the monthly and quarterly aggregate revenue across all stores"
   ]
  },
  {
   "cell_type": "code",
   "execution_count": 17,
   "metadata": {},
   "outputs": [
    {
     "data": {
      "image/png": "[encoded data removed]",
      "text/plain": [
       "<Figure size 720x432 with 1 Axes>"
      ]
     },
     "metadata": {
      "needs_background": "light"
     },
     "output_type": "display_data"
    }
   ],
   "source": [
    "plt.figure(figsize=(10, 6))\n",
    "m = sns.barplot(x='Month',y='Gross revenue',data=monthly_data,color=\"cyan\")\n",
    "tmp = m.set(xlabel='Month', ylabel='Gross revenue ($ billions)')\n",
    "plt.title(\"Gross monthly revenue across all stores ($ bn.)\")\n",
    "\n",
    "m.yaxis.set_major_formatter(ticker.FuncFormatter(lambda x, pos: '{:,.2f}'.format(x/1000000000) + ' bn.'))\n",
    "\n",
    "for index, row in monthly_data.iterrows():\n",
    "    m.text(row.Month-1,row['Gross revenue']+100000000, round(row['Gross revenue']/1000000000,1), color='black', ha=\"center\")"
   ]
  },
  {
   "cell_type": "code",
   "execution_count": 18,
   "metadata": {},
   "outputs": [
    {
     "data": {
      "image/png": "[encoded data removed]",
      "text/plain": [
       "<Figure size 720x432 with 1 Axes>"
      ]
     },
     "metadata": {
      "needs_background": "light"
     },
     "output_type": "display_data"
    }
   ],
   "source": [
    "plt.figure(figsize=(10, 6))\n",
    "q = sns.barplot(x='quarter',y='Gross revenue',data=quarterly_data,color=\"cyan\")\n",
    "tmp = q.set(xlabel='Quarter', ylabel='Gross revenue ($ billions)')\n",
    "plt.title(\"Gross quarterly revenue across all stores ($ bn.)\")\n",
    "\n",
    "q.yaxis.set_major_formatter(ticker.FuncFormatter(lambda x, pos: '{:,.2f}'.format(x/1000000000) + ' bn.'))\n",
    "\n",
    "for index, row in quarterly_data.iterrows():\n",
    "    q.text(row.quarter-1,row['Gross revenue']+100000000, round(row['Gross revenue']/1000000000,1), color='black', ha=\"center\")"
   ]
  },
  {
   "cell_type": "markdown",
   "metadata": {},
   "source": [
    "### Part 2 - Cleaning the data"
   ]
  },
  {
   "cell_type": "code",
   "execution_count": 19,
   "metadata": {},
   "outputs": [
    {
     "data": {
      "text/plain": [
       "False    297\n",
       "True      36\n",
       "Name: Owned, dtype: int64"
      ]
     },
     "execution_count": 19,
     "metadata": {},
     "output_type": "execute_result"
    }
   ],
   "source": [
    "# Seeing number of owned vs leased locations\n",
    "annual_data['Owned'].value_counts()"
   ]
  },
  {
   "cell_type": "code",
   "execution_count": 20,
   "metadata": {},
   "outputs": [],
   "source": [
    "# Creating a separate dataframe for only leased locations vs only owned locations to understand what drives rental cost\n",
    "msk_rented = operating_data_df['Owned']==False\n",
    "rental_stores_data = operating_data_df[msk_rented]\n",
    "owned_stores_data = operating_data_df[~msk_rented]"
   ]
  },
  {
   "cell_type": "code",
   "execution_count": 21,
   "metadata": {},
   "outputs": [],
   "source": [
    "# Collapsing rental and owned stores data separately by location number\n",
    "# We are adding up monthly revenue, fixed cost, variable costs and rental to get annual numbers\n",
    "\n",
    "operations_dict = {'State':'min',\n",
    "                   'Gross revenue':'sum',\n",
    "                   'Fixed cost':'sum',\n",
    "                   'Variable cost':'sum',\n",
    "                   'Rental cost':'sum',\n",
    "                   'Number of products':'mean', # since number of products is same for a store across months\n",
    "                   'Owned':'min'}\n",
    "\n",
    "rental_stores_data_by_store = rental_stores_data.groupby('Location number').agg(operations_dict).reset_index()\n",
    "owned_stores_data_by_store = owned_stores_data.groupby('Location number').agg(operations_dict).reset_index()\n",
    "\n",
    "rental_stores_data_by_store.rename(columns={'Gross revenue':'Annual_gross_revenue',\n",
    "                                            'Fixed cost':'Annual_fixed_cost',\n",
    "                                            'Variable cost':'Annual_variable_cost',\n",
    "                                            'Rental cost':'Annual_rental_cost'},inplace=True)\n",
    "owned_stores_data_by_store.rename(columns={'Gross revenue':'Annual_gross_revenue',\n",
    "                                            'Fixed cost':'Annual_fixed_cost',\n",
    "                                            'Variable cost':'Annual_variable_cost',\n",
    "                                            'Rental cost':'Annual_rental_cost'},inplace=True)"
   ]
  },
  {
   "cell_type": "code",
   "execution_count": 22,
   "metadata": {},
   "outputs": [
    {
     "data": {
      "text/html": [
       "<div>\n",
       "<style scoped>\n",
       "    .dataframe tbody tr th:only-of-type {\n",
       "        vertical-align: middle;\n",
       "    }\n",
       "\n",
       "    .dataframe tbody tr th {\n",
       "        vertical-align: top;\n",
       "    }\n",
       "\n",
       "    .dataframe thead th {\n",
       "        text-align: right;\n",
       "    }\n",
       "</style>\n",
       "<table border=\"1\" class=\"dataframe\">\n",
       "  <thead>\n",
       "    <tr style=\"text-align: right;\">\n",
       "      <th></th>\n",
       "      <th>Location number</th>\n",
       "      <th>State</th>\n",
       "      <th>Annual_gross_revenue</th>\n",
       "      <th>Annual_fixed_cost</th>\n",
       "      <th>Annual_variable_cost</th>\n",
       "      <th>Annual_rental_cost</th>\n",
       "      <th>Number of products</th>\n",
       "      <th>Owned</th>\n",
       "    </tr>\n",
       "  </thead>\n",
       "  <tbody>\n",
       "    <tr>\n",
       "      <th>0</th>\n",
       "      <td>1</td>\n",
       "      <td>TX</td>\n",
       "      <td>544738868.630</td>\n",
       "      <td>110895576.690</td>\n",
       "      <td>279368713.890</td>\n",
       "      <td>4390560</td>\n",
       "      <td>4452</td>\n",
       "      <td>False</td>\n",
       "    </tr>\n",
       "    <tr>\n",
       "      <th>1</th>\n",
       "      <td>2</td>\n",
       "      <td>TX</td>\n",
       "      <td>355973012.710</td>\n",
       "      <td>72873948.790</td>\n",
       "      <td>193729099.950</td>\n",
       "      <td>783240</td>\n",
       "      <td>4502</td>\n",
       "      <td>False</td>\n",
       "    </tr>\n",
       "    <tr>\n",
       "      <th>2</th>\n",
       "      <td>4</td>\n",
       "      <td>GA</td>\n",
       "      <td>263984311.310</td>\n",
       "      <td>64104092.800</td>\n",
       "      <td>143239809.710</td>\n",
       "      <td>1696920</td>\n",
       "      <td>4481</td>\n",
       "      <td>False</td>\n",
       "    </tr>\n",
       "    <tr>\n",
       "      <th>3</th>\n",
       "      <td>5</td>\n",
       "      <td>NJ</td>\n",
       "      <td>189001593.490</td>\n",
       "      <td>44750496.240</td>\n",
       "      <td>103755318.740</td>\n",
       "      <td>894000</td>\n",
       "      <td>4533</td>\n",
       "      <td>False</td>\n",
       "    </tr>\n",
       "    <tr>\n",
       "      <th>4</th>\n",
       "      <td>6</td>\n",
       "      <td>IL</td>\n",
       "      <td>117024430.367</td>\n",
       "      <td>31993754.010</td>\n",
       "      <td>65840306.800</td>\n",
       "      <td>393480</td>\n",
       "      <td>4373</td>\n",
       "      <td>False</td>\n",
       "    </tr>\n",
       "  </tbody>\n",
       "</table>\n",
       "</div>"
      ],
      "text/plain": [
       "   Location number State  Annual_gross_revenue  Annual_fixed_cost  \\\n",
       "0                1    TX         544738868.630      110895576.690   \n",
       "1                2    TX         355973012.710       72873948.790   \n",
       "2                4    GA         263984311.310       64104092.800   \n",
       "3                5    NJ         189001593.490       44750496.240   \n",
       "4                6    IL         117024430.367       31993754.010   \n",
       "\n",
       "   Annual_variable_cost  Annual_rental_cost  Number of products  Owned  \n",
       "0         279368713.890             4390560                4452  False  \n",
       "1         193729099.950              783240                4502  False  \n",
       "2         143239809.710             1696920                4481  False  \n",
       "3         103755318.740              894000                4533  False  \n",
       "4          65840306.800              393480                4373  False  "
      ]
     },
     "execution_count": 22,
     "metadata": {},
     "output_type": "execute_result"
    }
   ],
   "source": [
    "rental_stores_data_by_store.head()"
   ]
  },
  {
   "cell_type": "code",
   "execution_count": 23,
   "metadata": {},
   "outputs": [
    {
     "data": {
      "text/html": [
       "<div>\n",
       "<style scoped>\n",
       "    .dataframe tbody tr th:only-of-type {\n",
       "        vertical-align: middle;\n",
       "    }\n",
       "\n",
       "    .dataframe tbody tr th {\n",
       "        vertical-align: top;\n",
       "    }\n",
       "\n",
       "    .dataframe thead th {\n",
       "        text-align: right;\n",
       "    }\n",
       "</style>\n",
       "<table border=\"1\" class=\"dataframe\">\n",
       "  <thead>\n",
       "    <tr style=\"text-align: right;\">\n",
       "      <th></th>\n",
       "      <th>Annual_gross_revenue</th>\n",
       "      <th>Annual_fixed_cost</th>\n",
       "      <th>Annual_variable_cost</th>\n",
       "      <th>Number of products</th>\n",
       "      <th>Annual_rental_cost</th>\n",
       "    </tr>\n",
       "  </thead>\n",
       "  <tbody>\n",
       "    <tr>\n",
       "      <th>Annual_gross_revenue</th>\n",
       "      <td>1.000</td>\n",
       "      <td>0.958</td>\n",
       "      <td>0.992</td>\n",
       "      <td>0.453</td>\n",
       "      <td>0.656</td>\n",
       "    </tr>\n",
       "    <tr>\n",
       "      <th>Annual_fixed_cost</th>\n",
       "      <td>0.958</td>\n",
       "      <td>1.000</td>\n",
       "      <td>0.964</td>\n",
       "      <td>0.303</td>\n",
       "      <td>0.695</td>\n",
       "    </tr>\n",
       "    <tr>\n",
       "      <th>Annual_variable_cost</th>\n",
       "      <td>0.992</td>\n",
       "      <td>0.964</td>\n",
       "      <td>1.000</td>\n",
       "      <td>0.403</td>\n",
       "      <td>0.657</td>\n",
       "    </tr>\n",
       "    <tr>\n",
       "      <th>Number of products</th>\n",
       "      <td>0.453</td>\n",
       "      <td>0.303</td>\n",
       "      <td>0.403</td>\n",
       "      <td>1.000</td>\n",
       "      <td>-0.032</td>\n",
       "    </tr>\n",
       "    <tr>\n",
       "      <th>Annual_rental_cost</th>\n",
       "      <td>0.656</td>\n",
       "      <td>0.695</td>\n",
       "      <td>0.657</td>\n",
       "      <td>-0.032</td>\n",
       "      <td>1.000</td>\n",
       "    </tr>\n",
       "  </tbody>\n",
       "</table>\n",
       "</div>"
      ],
      "text/plain": [
       "                      Annual_gross_revenue  Annual_fixed_cost  \\\n",
       "Annual_gross_revenue                 1.000              0.958   \n",
       "Annual_fixed_cost                    0.958              1.000   \n",
       "Annual_variable_cost                 0.992              0.964   \n",
       "Number of products                   0.453              0.303   \n",
       "Annual_rental_cost                   0.656              0.695   \n",
       "\n",
       "                      Annual_variable_cost  Number of products  \\\n",
       "Annual_gross_revenue                 0.992               0.453   \n",
       "Annual_fixed_cost                    0.964               0.303   \n",
       "Annual_variable_cost                 1.000               0.403   \n",
       "Number of products                   0.403               1.000   \n",
       "Annual_rental_cost                   0.657              -0.032   \n",
       "\n",
       "                      Annual_rental_cost  \n",
       "Annual_gross_revenue               0.656  \n",
       "Annual_fixed_cost                  0.695  \n",
       "Annual_variable_cost               0.657  \n",
       "Number of products                -0.032  \n",
       "Annual_rental_cost                 1.000  "
      ]
     },
     "execution_count": 23,
     "metadata": {},
     "output_type": "execute_result"
    }
   ],
   "source": [
    "#Checking correlations of annual rental costs to other variables\n",
    "rental_stores_data_by_store[['Annual_gross_revenue', 'Annual_fixed_cost',\n",
    "                             'Annual_variable_cost',  'Number of products', 'Annual_rental_cost']].corr()"
   ]
  },
  {
   "cell_type": "markdown",
   "metadata": {},
   "source": [
    "- We can see from the above correlation matrix that annual rental cost is correlated positively with annual: fixed cost, variable cost and gross revenue, but these three are also highly correlated to each other"
   ]
  },
  {
   "cell_type": "code",
   "execution_count": 24,
   "metadata": {},
   "outputs": [
    {
     "data": {
      "text/html": [
       "<div>\n",
       "<style scoped>\n",
       "    .dataframe tbody tr th:only-of-type {\n",
       "        vertical-align: middle;\n",
       "    }\n",
       "\n",
       "    .dataframe tbody tr th {\n",
       "        vertical-align: top;\n",
       "    }\n",
       "\n",
       "    .dataframe thead th {\n",
       "        text-align: right;\n",
       "    }\n",
       "</style>\n",
       "<table border=\"1\" class=\"dataframe\">\n",
       "  <thead>\n",
       "    <tr style=\"text-align: right;\">\n",
       "      <th></th>\n",
       "      <th>Annual_rental_cost</th>\n",
       "      <th>State_TX</th>\n",
       "      <th>State_GA</th>\n",
       "      <th>State_NJ</th>\n",
       "      <th>State_IL</th>\n",
       "      <th>State_CA</th>\n",
       "      <th>State_CO</th>\n",
       "      <th>State_WA</th>\n",
       "    </tr>\n",
       "  </thead>\n",
       "  <tbody>\n",
       "    <tr>\n",
       "      <th>Annual_rental_cost</th>\n",
       "      <td>1.000</td>\n",
       "      <td>0.082</td>\n",
       "      <td>-0.055</td>\n",
       "      <td>0.000</td>\n",
       "      <td>-0.025</td>\n",
       "      <td>-0.015</td>\n",
       "      <td>-0.012</td>\n",
       "      <td>-0.000</td>\n",
       "    </tr>\n",
       "    <tr>\n",
       "      <th>State_TX</th>\n",
       "      <td>0.082</td>\n",
       "      <td>1.000</td>\n",
       "      <td>-0.297</td>\n",
       "      <td>-0.217</td>\n",
       "      <td>-0.268</td>\n",
       "      <td>-0.332</td>\n",
       "      <td>-0.141</td>\n",
       "      <td>-0.141</td>\n",
       "    </tr>\n",
       "    <tr>\n",
       "      <th>State_GA</th>\n",
       "      <td>-0.055</td>\n",
       "      <td>-0.297</td>\n",
       "      <td>1.000</td>\n",
       "      <td>-0.148</td>\n",
       "      <td>-0.183</td>\n",
       "      <td>-0.226</td>\n",
       "      <td>-0.096</td>\n",
       "      <td>-0.096</td>\n",
       "    </tr>\n",
       "    <tr>\n",
       "      <th>State_NJ</th>\n",
       "      <td>0.000</td>\n",
       "      <td>-0.217</td>\n",
       "      <td>-0.148</td>\n",
       "      <td>1.000</td>\n",
       "      <td>-0.134</td>\n",
       "      <td>-0.166</td>\n",
       "      <td>-0.070</td>\n",
       "      <td>-0.070</td>\n",
       "    </tr>\n",
       "    <tr>\n",
       "      <th>State_IL</th>\n",
       "      <td>-0.025</td>\n",
       "      <td>-0.268</td>\n",
       "      <td>-0.183</td>\n",
       "      <td>-0.134</td>\n",
       "      <td>1.000</td>\n",
       "      <td>-0.204</td>\n",
       "      <td>-0.087</td>\n",
       "      <td>-0.087</td>\n",
       "    </tr>\n",
       "    <tr>\n",
       "      <th>State_CA</th>\n",
       "      <td>-0.015</td>\n",
       "      <td>-0.332</td>\n",
       "      <td>-0.226</td>\n",
       "      <td>-0.166</td>\n",
       "      <td>-0.204</td>\n",
       "      <td>1.000</td>\n",
       "      <td>-0.108</td>\n",
       "      <td>-0.108</td>\n",
       "    </tr>\n",
       "    <tr>\n",
       "      <th>State_CO</th>\n",
       "      <td>-0.012</td>\n",
       "      <td>-0.141</td>\n",
       "      <td>-0.096</td>\n",
       "      <td>-0.070</td>\n",
       "      <td>-0.087</td>\n",
       "      <td>-0.108</td>\n",
       "      <td>1.000</td>\n",
       "      <td>-0.046</td>\n",
       "    </tr>\n",
       "    <tr>\n",
       "      <th>State_WA</th>\n",
       "      <td>-0.000</td>\n",
       "      <td>-0.141</td>\n",
       "      <td>-0.096</td>\n",
       "      <td>-0.070</td>\n",
       "      <td>-0.087</td>\n",
       "      <td>-0.108</td>\n",
       "      <td>-0.046</td>\n",
       "      <td>1.000</td>\n",
       "    </tr>\n",
       "  </tbody>\n",
       "</table>\n",
       "</div>"
      ],
      "text/plain": [
       "                    Annual_rental_cost  State_TX  State_GA  State_NJ  \\\n",
       "Annual_rental_cost               1.000     0.082    -0.055     0.000   \n",
       "State_TX                         0.082     1.000    -0.297    -0.217   \n",
       "State_GA                        -0.055    -0.297     1.000    -0.148   \n",
       "State_NJ                         0.000    -0.217    -0.148     1.000   \n",
       "State_IL                        -0.025    -0.268    -0.183    -0.134   \n",
       "State_CA                        -0.015    -0.332    -0.226    -0.166   \n",
       "State_CO                        -0.012    -0.141    -0.096    -0.070   \n",
       "State_WA                        -0.000    -0.141    -0.096    -0.070   \n",
       "\n",
       "                    State_IL  State_CA  State_CO  State_WA  \n",
       "Annual_rental_cost    -0.025    -0.015    -0.012    -0.000  \n",
       "State_TX              -0.268    -0.332    -0.141    -0.141  \n",
       "State_GA              -0.183    -0.226    -0.096    -0.096  \n",
       "State_NJ              -0.134    -0.166    -0.070    -0.070  \n",
       "State_IL               1.000    -0.204    -0.087    -0.087  \n",
       "State_CA              -0.204     1.000    -0.108    -0.108  \n",
       "State_CO              -0.087    -0.108     1.000    -0.046  \n",
       "State_WA              -0.087    -0.108    -0.046     1.000  "
      ]
     },
     "execution_count": 24,
     "metadata": {},
     "output_type": "execute_result"
    }
   ],
   "source": [
    "# Checking if annual rental costs are correlated to states\n",
    "pd.get_dummies(rental_stores_data_by_store,prefix='State',columns=['State'])[['Annual_rental_cost']+['State_'+x for x in rental_stores_data_by_store['State'].unique()]].corr()"
   ]
  },
  {
   "cell_type": "markdown",
   "metadata": {},
   "source": [
    "- Rental cost doesn't seem to be strongly correlated to the store being in a particular state vs other"
   ]
  },
  {
   "cell_type": "code",
   "execution_count": 25,
   "metadata": {},
   "outputs": [
    {
     "data": {
      "image/png": "[encoded data removed]",
      "text/plain": [
       "<Figure size 720x576 with 1 Axes>"
      ]
     },
     "metadata": {
      "needs_background": "light"
     },
     "output_type": "display_data"
    }
   ],
   "source": [
    "states_sorted = rental_stores_data_by_store['State'].unique().tolist()\n",
    "states_sorted.sort()\n",
    "\n",
    "plt.figure(figsize=(10, 8))\n",
    "ax = sns.boxplot(x='State',y='Annual_rental_cost',data=rental_stores_data_by_store,order = states_sorted)\n",
    "ax = sns.swarmplot(x='State',y='Annual_rental_cost',data=rental_stores_data_by_store, color=\".3\",order = states_sorted)\n",
    "\n",
    "ax.yaxis.set_major_formatter(ticker.FuncFormatter(lambda x, pos: '{:,.2f}'.format(x/1000000) + ' mn.'))"
   ]
  },
  {
   "cell_type": "markdown",
   "metadata": {},
   "source": [
    "- From the box plots, we can see that the median rental cost across the 7 states is not very different, but within each state, annual rental costs are widely distributed. \n",
    "- Hence it wouldn't be accurate to impute a single (median) rental cost for properties in the same state\n",
    "------------------\n",
    "- We see a strong positive correlation between rental costs and fixed costs, so we can use this to get an estimate of rental costs for owned stores."
   ]
  },
  {
   "cell_type": "code",
   "execution_count": 26,
   "metadata": {},
   "outputs": [
    {
     "data": {
      "text/plain": [
       "count         297.000\n",
       "mean     73244584.915\n",
       "std      30604079.283\n",
       "min      21365087.660\n",
       "25%      54085885.520\n",
       "50%      66002389.460\n",
       "75%      83426022.770\n",
       "max     231706060.340\n",
       "Name: Annual_fixed_cost, dtype: float64"
      ]
     },
     "execution_count": 26,
     "metadata": {},
     "output_type": "execute_result"
    }
   ],
   "source": [
    "# We can see annual fixed costs have a wide range from $21.3 Mn - $ 231.7 Mn with 50% of values clustered between 54 - 83 Mn\n",
    "rental_stores_data_by_store['Annual_fixed_cost'].describe()"
   ]
  },
  {
   "cell_type": "code",
   "execution_count": 27,
   "metadata": {},
   "outputs": [],
   "source": [
    "# Binning rental stores based on fixed cost amounts to observe distribution of rental costs in each bucket\n",
    "\n",
    "bins = [0,30000000,40000000,50000000,60000000,70000000,80000000,90000000,100000000,150000000,240000000]\n",
    "rental_stores_data_by_store['annual_fc_bins'] = pd.cut(rental_stores_data_by_store['Annual_fixed_cost'],include_lowest=True,bins = bins)"
   ]
  },
  {
   "cell_type": "code",
   "execution_count": 28,
   "metadata": {},
   "outputs": [
    {
     "data": {
      "text/html": [
       "<div>\n",
       "<style scoped>\n",
       "    .dataframe tbody tr th:only-of-type {\n",
       "        vertical-align: middle;\n",
       "    }\n",
       "\n",
       "    .dataframe tbody tr th {\n",
       "        vertical-align: top;\n",
       "    }\n",
       "\n",
       "    .dataframe thead th {\n",
       "        text-align: right;\n",
       "    }\n",
       "</style>\n",
       "<table border=\"1\" class=\"dataframe\">\n",
       "  <thead>\n",
       "    <tr style=\"text-align: right;\">\n",
       "      <th></th>\n",
       "      <th>Location number</th>\n",
       "      <th>State</th>\n",
       "      <th>Annual_gross_revenue</th>\n",
       "      <th>Annual_fixed_cost</th>\n",
       "      <th>Annual_variable_cost</th>\n",
       "      <th>Annual_rental_cost</th>\n",
       "      <th>Number of products</th>\n",
       "      <th>Owned</th>\n",
       "      <th>annual_fc_bins</th>\n",
       "    </tr>\n",
       "  </thead>\n",
       "  <tbody>\n",
       "    <tr>\n",
       "      <th>0</th>\n",
       "      <td>1</td>\n",
       "      <td>TX</td>\n",
       "      <td>544738868.630</td>\n",
       "      <td>110895576.690</td>\n",
       "      <td>279368713.890</td>\n",
       "      <td>4390560</td>\n",
       "      <td>4452</td>\n",
       "      <td>False</td>\n",
       "      <td>(100000000.0, 150000000.0]</td>\n",
       "    </tr>\n",
       "    <tr>\n",
       "      <th>1</th>\n",
       "      <td>2</td>\n",
       "      <td>TX</td>\n",
       "      <td>355973012.710</td>\n",
       "      <td>72873948.790</td>\n",
       "      <td>193729099.950</td>\n",
       "      <td>783240</td>\n",
       "      <td>4502</td>\n",
       "      <td>False</td>\n",
       "      <td>(70000000.0, 80000000.0]</td>\n",
       "    </tr>\n",
       "    <tr>\n",
       "      <th>2</th>\n",
       "      <td>4</td>\n",
       "      <td>GA</td>\n",
       "      <td>263984311.310</td>\n",
       "      <td>64104092.800</td>\n",
       "      <td>143239809.710</td>\n",
       "      <td>1696920</td>\n",
       "      <td>4481</td>\n",
       "      <td>False</td>\n",
       "      <td>(60000000.0, 70000000.0]</td>\n",
       "    </tr>\n",
       "    <tr>\n",
       "      <th>3</th>\n",
       "      <td>5</td>\n",
       "      <td>NJ</td>\n",
       "      <td>189001593.490</td>\n",
       "      <td>44750496.240</td>\n",
       "      <td>103755318.740</td>\n",
       "      <td>894000</td>\n",
       "      <td>4533</td>\n",
       "      <td>False</td>\n",
       "      <td>(40000000.0, 50000000.0]</td>\n",
       "    </tr>\n",
       "    <tr>\n",
       "      <th>4</th>\n",
       "      <td>6</td>\n",
       "      <td>IL</td>\n",
       "      <td>117024430.367</td>\n",
       "      <td>31993754.010</td>\n",
       "      <td>65840306.800</td>\n",
       "      <td>393480</td>\n",
       "      <td>4373</td>\n",
       "      <td>False</td>\n",
       "      <td>(30000000.0, 40000000.0]</td>\n",
       "    </tr>\n",
       "  </tbody>\n",
       "</table>\n",
       "</div>"
      ],
      "text/plain": [
       "   Location number State  Annual_gross_revenue  Annual_fixed_cost  \\\n",
       "0                1    TX         544738868.630      110895576.690   \n",
       "1                2    TX         355973012.710       72873948.790   \n",
       "2                4    GA         263984311.310       64104092.800   \n",
       "3                5    NJ         189001593.490       44750496.240   \n",
       "4                6    IL         117024430.367       31993754.010   \n",
       "\n",
       "   Annual_variable_cost  Annual_rental_cost  Number of products  Owned  \\\n",
       "0         279368713.890             4390560                4452  False   \n",
       "1         193729099.950              783240                4502  False   \n",
       "2         143239809.710             1696920                4481  False   \n",
       "3         103755318.740              894000                4533  False   \n",
       "4          65840306.800              393480                4373  False   \n",
       "\n",
       "               annual_fc_bins  \n",
       "0  (100000000.0, 150000000.0]  \n",
       "1    (70000000.0, 80000000.0]  \n",
       "2    (60000000.0, 70000000.0]  \n",
       "3    (40000000.0, 50000000.0]  \n",
       "4    (30000000.0, 40000000.0]  "
      ]
     },
     "execution_count": 28,
     "metadata": {},
     "output_type": "execute_result"
    }
   ],
   "source": [
    "rental_stores_data_by_store.head()"
   ]
  },
  {
   "cell_type": "code",
   "execution_count": 29,
   "metadata": {},
   "outputs": [
    {
     "data": {
      "image/png": "[encoded data removed]",
      "text/plain": [
       "<Figure size 720x576 with 1 Axes>"
      ]
     },
     "metadata": {
      "needs_background": "light"
     },
     "output_type": "display_data"
    }
   ],
   "source": [
    "plt.figure(figsize=(10, 8))\n",
    "ax = sns.boxplot(x='annual_fc_bins',y='Annual_rental_cost',data=rental_stores_data_by_store)\n",
    "ax = sns.swarmplot(x='annual_fc_bins',y='Annual_rental_cost',data=rental_stores_data_by_store, color=\".3\")\n",
    "\n",
    "ax.yaxis.set_major_formatter(ticker.FuncFormatter(lambda x, pos: '{:,.2f}'.format(x/1000000) + ' mn.'))\n",
    "ticks = plt.xticks(rotation=90)\n",
    "\n",
    "tmp = ax.set(xlabel='Annual Fixed cost bins', ylabel='Annual rental cost')"
   ]
  },
  {
   "cell_type": "markdown",
   "metadata": {},
   "source": [
    "- Now we can observe that stores within the same annual fixed cost bin are less distributed in terms of rental cost. Further we can see an increase in average rental cost with an increase in fixed costs\n",
    "- However, we have some outliers in the data. We can take of these next."
   ]
  },
  {
   "cell_type": "code",
   "execution_count": 35,
   "metadata": {},
   "outputs": [],
   "source": [
    "# Function takes a dataset, efined segmentation column and a metric \n",
    "# It groupss data by segmentation column and calculates outliers based on the values of metric within each segment\n",
    "\n",
    "def identify_outliers(df,segment_by='annual_fc_bins',metric='Annual_rental_cost'):\n",
    "    grouped = df.groupby(by=[segment_by],axis=0)[metric].describe()[['mean', 'count', '25%', '50%', '75%']]\n",
    "    grouped.reset_index(inplace=True)\n",
    "    grouped['iqr']=grouped['75%'] - grouped['25%']\n",
    "    grouped['upper_whisker'] = grouped['75%']+1.5*grouped['iqr']\n",
    "    grouped['lower_whisker'] = grouped['25%']-1.5*grouped['iqr']\n",
    "\n",
    "    df = df.merge(grouped,on=[segment_by],how='left')\n",
    "    df['outlier']=np.where((df[metric]<df['lower_whisker']) | (df[metric]>df['upper_whisker']),1,0)\n",
    "    df.drop(columns=['mean','count','25%','50%','75%','iqr','upper_whisker','lower_whisker'],inplace=True)\n",
    "    \n",
    "    return df"
   ]
  },
  {
   "cell_type": "code",
   "execution_count": 37,
   "metadata": {},
   "outputs": [],
   "source": [
    "rental_stores_data_outlier_marked = identify_outliers(rental_stores_data_by_store,segment_by='annual_fc_bins',metric='Annual_rental_cost')"
   ]
  },
  {
   "cell_type": "code",
   "execution_count": 38,
   "metadata": {},
   "outputs": [
    {
     "data": {
      "text/plain": [
       "(297, 10)"
      ]
     },
     "execution_count": 38,
     "metadata": {},
     "output_type": "execute_result"
    }
   ],
   "source": [
    "rental_stores_data_outlier_marked.shape"
   ]
  },
  {
   "cell_type": "code",
   "execution_count": 39,
   "metadata": {},
   "outputs": [
    {
     "data": {
      "text/plain": [
       "0    288\n",
       "1      9\n",
       "Name: outlier, dtype: int64"
      ]
     },
     "execution_count": 39,
     "metadata": {},
     "output_type": "execute_result"
    }
   ],
   "source": [
    "rental_stores_data_outlier_marked['outlier'].value_counts()"
   ]
  },
  {
   "cell_type": "code",
   "execution_count": 40,
   "metadata": {},
   "outputs": [
    {
     "data": {
      "text/plain": [
       "(288, 10)"
      ]
     },
     "execution_count": 40,
     "metadata": {},
     "output_type": "execute_result"
    }
   ],
   "source": [
    "# Removing outliers for purposes of rental cost imputation\n",
    "rental_stores_data_outlier_marked = rental_stores_data_outlier_marked[rental_stores_data_outlier_marked['outlier']==0]\n",
    "rental_stores_data_outlier_marked.shape"
   ]
  },
  {
   "cell_type": "markdown",
   "metadata": {},
   "source": [
    "### Now that outliers are removed, we try to build a model to impute the rental cost of owned properties based on the fixed costs of the store"
   ]
  },
  {
   "cell_type": "code",
   "execution_count": 43,
   "metadata": {},
   "outputs": [],
   "source": [
    "# Function runs a linear regression n number of times choosing a different train and test subset each time\n",
    "# and returns the calculated Root mean squared errors from each run\n",
    "\n",
    "def Out_of_sample_RMSE (df, y ,formula, n, pct):\n",
    "    df_out = []\n",
    "    a_list = []\n",
    "    rsq_list = []\n",
    "    for i in range(n):\n",
    "        X_train, X_test, y_train, y_test = train_test_split(df, y, test_size = pct)\n",
    "        \n",
    "        y_train = pd.DataFrame(y_train)\n",
    "        tmp = y_train.merge(X_train)\n",
    "        \n",
    "        y_test = pd.DataFrame(y_test)\n",
    "        tmp_test = y_test.merge(X_test)\n",
    "        \n",
    "        reg = ols(formula, data=tmp).fit()\n",
    "        predictions = reg.predict(tmp_test)\n",
    "        \n",
    "        tmp = pd.DataFrame(predictions, columns = ['Predict'])\n",
    "        msk = list(y_test)\n",
    "        tmp['Original'] = tmp_test[msk]\n",
    "        tmp['Sqd. Errors'] = np.square(tmp['Predict']-tmp['Original'])\n",
    "        \n",
    "        a_list.append(np.sqrt(tmp['Sqd. Errors'].mean()))\n",
    "        rsq_list.append(reg.rsquared_adj)\n",
    "    print(f\"Mean adj. R2 across {n} runs:, {sum(rsq_list)/len(rsq_list)}\")\n",
    "    return pd.DataFrame(a_list,columns=['RMSE'])"
   ]
  },
  {
   "cell_type": "code",
   "execution_count": 44,
   "metadata": {},
   "outputs": [
    {
     "name": "stdout",
     "output_type": "stream",
     "text": [
      "Mean adj. R2 across 100 runs:, 0.5475546160370209\n"
     ]
    }
   ],
   "source": [
    "all_features = ['Annual_fixed_cost']\n",
    "all_features = \"+\".join(all_features)\n",
    "formula2 = \"Annual_rental_cost~\" + all_features\n",
    "\n",
    "RMSE = Out_of_sample_RMSE(rental_stores_data_outlier_marked,rental_stores_data_outlier_marked['Annual_rental_cost'] ,formula2 ,100 ,0.25)"
   ]
  },
  {
   "cell_type": "code",
   "execution_count": 45,
   "metadata": {},
   "outputs": [
    {
     "name": "stdout",
     "output_type": "stream",
     "text": [
      "Mean out-of-sample RMSE of model across all runs:  RMSE   824037.917\n",
      "dtype: float64\n"
     ]
    }
   ],
   "source": [
    "print(\"Mean out-of-sample RMSE of model across all runs: \",RMSE.mean())"
   ]
  },
  {
   "cell_type": "markdown",
   "metadata": {},
   "source": [
    "- We can see that the mean RMSE of the model is high. This is because we only have one strong predictor of rental cost. With additional features available for stores, this estimate can be improved in future iterations."
   ]
  },
  {
   "cell_type": "code",
   "execution_count": 46,
   "metadata": {},
   "outputs": [
    {
     "name": "stdout",
     "output_type": "stream",
     "text": [
      "                            OLS Regression Results                            \n",
      "==============================================================================\n",
      "Dep. Variable:     Annual_rental_cost   R-squared:                       0.552\n",
      "Model:                            OLS   Adj. R-squared:                  0.550\n",
      "Method:                 Least Squares   F-statistic:                     352.4\n",
      "Date:                Sun, 04 Aug 2019   Prob (F-statistic):           8.63e-52\n",
      "Time:                        18:23:31   Log-Likelihood:                -4327.3\n",
      "No. Observations:                 288   AIC:                             8659.\n",
      "Df Residuals:                     286   BIC:                             8666.\n",
      "Df Model:                           1                                         \n",
      "Covariance Type:            nonrobust                                         \n",
      "=====================================================================================\n",
      "                        coef    std err          t      P>|t|      [0.025      0.975]\n",
      "-------------------------------------------------------------------------------------\n",
      "Intercept         -2.007e+05   1.24e+05     -1.621      0.106   -4.44e+05     4.3e+04\n",
      "Annual_fixed_cost     0.0294      0.002     18.772      0.000       0.026       0.033\n",
      "==============================================================================\n",
      "Omnibus:                       10.300   Durbin-Watson:                   2.075\n",
      "Prob(Omnibus):                  0.006   Jarque-Bera (JB):               13.665\n",
      "Skew:                           0.286   Prob(JB):                      0.00108\n",
      "Kurtosis:                       3.901   Cond. No.                     2.04e+08\n",
      "==============================================================================\n",
      "\n",
      "Warnings:\n",
      "[1] Standard Errors assume that the covariance matrix of the errors is correctly specified.\n",
      "[2] The condition number is large, 2.04e+08. This might indicate that there are\n",
      "strong multicollinearity or other numerical problems.\n"
     ]
    }
   ],
   "source": [
    "# Fitting the model using complete rental store dataset\n",
    "\n",
    "all_columns = ['Annual_fixed_cost']\n",
    "all_columns = \"+\".join(all_columns)\n",
    "\n",
    "#run OLS on all other columns\n",
    "formula2 = \"Annual_rental_cost~\" + all_columns\n",
    "reg2 = ols(formula2, data=rental_stores_data_outlier_marked).fit()\n",
    "print(reg2.summary())"
   ]
  },
  {
   "cell_type": "code",
   "execution_count": 47,
   "metadata": {},
   "outputs": [
    {
     "data": {
      "text/plain": [
       "0.5504201392764414"
      ]
     },
     "execution_count": 47,
     "metadata": {},
     "output_type": "execute_result"
    }
   ],
   "source": [
    "reg2.rsquared_adj"
   ]
  },
  {
   "cell_type": "markdown",
   "metadata": {},
   "source": [
    "#### Now we use this model to impute rental cost for owned stores"
   ]
  },
  {
   "cell_type": "code",
   "execution_count": 48,
   "metadata": {},
   "outputs": [],
   "source": [
    "owned_stores_data_by_store['imputed_rental_cost']=reg2.predict(owned_stores_data_by_store)"
   ]
  },
  {
   "cell_type": "code",
   "execution_count": 49,
   "metadata": {},
   "outputs": [],
   "source": [
    "owned_stores_data_by_store = owned_stores_data_by_store[['Location number','imputed_rental_cost']]"
   ]
  },
  {
   "cell_type": "code",
   "execution_count": 50,
   "metadata": {},
   "outputs": [],
   "source": [
    "owned_stores_data_by_store['imputed_rental_cost'] = owned_stores_data_by_store['imputed_rental_cost']/12\n",
    "owned_stores_data_by_store.rename(columns={'imputed_rental_cost':'imputed_monthly_rental_cost'},inplace=True)"
   ]
  },
  {
   "cell_type": "code",
   "execution_count": 51,
   "metadata": {},
   "outputs": [
    {
     "data": {
      "text/html": [
       "<div>\n",
       "<style scoped>\n",
       "    .dataframe tbody tr th:only-of-type {\n",
       "        vertical-align: middle;\n",
       "    }\n",
       "\n",
       "    .dataframe tbody tr th {\n",
       "        vertical-align: top;\n",
       "    }\n",
       "\n",
       "    .dataframe thead th {\n",
       "        text-align: right;\n",
       "    }\n",
       "</style>\n",
       "<table border=\"1\" class=\"dataframe\">\n",
       "  <thead>\n",
       "    <tr style=\"text-align: right;\">\n",
       "      <th></th>\n",
       "      <th>Location number</th>\n",
       "      <th>imputed_monthly_rental_cost</th>\n",
       "    </tr>\n",
       "  </thead>\n",
       "  <tbody>\n",
       "    <tr>\n",
       "      <th>0</th>\n",
       "      <td>3</td>\n",
       "      <td>140910.828</td>\n",
       "    </tr>\n",
       "    <tr>\n",
       "      <th>1</th>\n",
       "      <td>9</td>\n",
       "      <td>327281.737</td>\n",
       "    </tr>\n",
       "    <tr>\n",
       "      <th>2</th>\n",
       "      <td>11</td>\n",
       "      <td>141464.836</td>\n",
       "    </tr>\n",
       "    <tr>\n",
       "      <th>3</th>\n",
       "      <td>21</td>\n",
       "      <td>142592.779</td>\n",
       "    </tr>\n",
       "    <tr>\n",
       "      <th>4</th>\n",
       "      <td>31</td>\n",
       "      <td>138370.130</td>\n",
       "    </tr>\n",
       "  </tbody>\n",
       "</table>\n",
       "</div>"
      ],
      "text/plain": [
       "   Location number  imputed_monthly_rental_cost\n",
       "0                3                   140910.828\n",
       "1                9                   327281.737\n",
       "2               11                   141464.836\n",
       "3               21                   142592.779\n",
       "4               31                   138370.130"
      ]
     },
     "execution_count": 51,
     "metadata": {},
     "output_type": "execute_result"
    }
   ],
   "source": [
    "owned_stores_data_by_store.head()"
   ]
  },
  {
   "cell_type": "code",
   "execution_count": 52,
   "metadata": {},
   "outputs": [],
   "source": [
    "operating_data_df = operating_data_df.merge(owned_stores_data_by_store,on='Location number',how='left')"
   ]
  },
  {
   "cell_type": "code",
   "execution_count": 53,
   "metadata": {},
   "outputs": [],
   "source": [
    "msk = operating_data_df['imputed_monthly_rental_cost'].isna()\n",
    "operating_data_df.loc[msk,'imputed_monthly_rental_cost'] = operating_data_df.loc[msk,'Rental cost']"
   ]
  },
  {
   "cell_type": "code",
   "execution_count": 54,
   "metadata": {},
   "outputs": [
    {
     "data": {
      "text/html": [
       "<div>\n",
       "<style scoped>\n",
       "    .dataframe tbody tr th:only-of-type {\n",
       "        vertical-align: middle;\n",
       "    }\n",
       "\n",
       "    .dataframe tbody tr th {\n",
       "        vertical-align: top;\n",
       "    }\n",
       "\n",
       "    .dataframe thead th {\n",
       "        text-align: right;\n",
       "    }\n",
       "</style>\n",
       "<table border=\"1\" class=\"dataframe\">\n",
       "  <thead>\n",
       "    <tr style=\"text-align: right;\">\n",
       "      <th></th>\n",
       "      <th>Location number</th>\n",
       "      <th>Month</th>\n",
       "      <th>State</th>\n",
       "      <th>Gross revenue</th>\n",
       "      <th>Fixed cost</th>\n",
       "      <th>Variable cost</th>\n",
       "      <th>Rental cost</th>\n",
       "      <th>Number of products</th>\n",
       "      <th>Owned</th>\n",
       "      <th>quarter</th>\n",
       "      <th>imputed_monthly_rental_cost</th>\n",
       "    </tr>\n",
       "  </thead>\n",
       "  <tbody>\n",
       "    <tr>\n",
       "      <th>0</th>\n",
       "      <td>1</td>\n",
       "      <td>1</td>\n",
       "      <td>TX</td>\n",
       "      <td>48628171.020</td>\n",
       "      <td>9218156.690</td>\n",
       "      <td>24278189.230</td>\n",
       "      <td>365880</td>\n",
       "      <td>4452</td>\n",
       "      <td>False</td>\n",
       "      <td>1</td>\n",
       "      <td>365880.000</td>\n",
       "    </tr>\n",
       "    <tr>\n",
       "      <th>1</th>\n",
       "      <td>1</td>\n",
       "      <td>2</td>\n",
       "      <td>TX</td>\n",
       "      <td>48107179.240</td>\n",
       "      <td>10587747.350</td>\n",
       "      <td>25116844.410</td>\n",
       "      <td>365880</td>\n",
       "      <td>4452</td>\n",
       "      <td>False</td>\n",
       "      <td>1</td>\n",
       "      <td>365880.000</td>\n",
       "    </tr>\n",
       "    <tr>\n",
       "      <th>2</th>\n",
       "      <td>1</td>\n",
       "      <td>3</td>\n",
       "      <td>TX</td>\n",
       "      <td>64352278.290</td>\n",
       "      <td>10193873.770</td>\n",
       "      <td>33703499.830</td>\n",
       "      <td>365880</td>\n",
       "      <td>4452</td>\n",
       "      <td>False</td>\n",
       "      <td>1</td>\n",
       "      <td>365880.000</td>\n",
       "    </tr>\n",
       "    <tr>\n",
       "      <th>3</th>\n",
       "      <td>1</td>\n",
       "      <td>4</td>\n",
       "      <td>TX</td>\n",
       "      <td>45943677.960</td>\n",
       "      <td>8764165.000</td>\n",
       "      <td>24037719.470</td>\n",
       "      <td>365880</td>\n",
       "      <td>4452</td>\n",
       "      <td>False</td>\n",
       "      <td>2</td>\n",
       "      <td>365880.000</td>\n",
       "    </tr>\n",
       "    <tr>\n",
       "      <th>4</th>\n",
       "      <td>1</td>\n",
       "      <td>5</td>\n",
       "      <td>TX</td>\n",
       "      <td>32761434.980</td>\n",
       "      <td>8022116.430</td>\n",
       "      <td>16432119.180</td>\n",
       "      <td>365880</td>\n",
       "      <td>4452</td>\n",
       "      <td>False</td>\n",
       "      <td>2</td>\n",
       "      <td>365880.000</td>\n",
       "    </tr>\n",
       "    <tr>\n",
       "      <th>5</th>\n",
       "      <td>1</td>\n",
       "      <td>6</td>\n",
       "      <td>TX</td>\n",
       "      <td>50677036.260</td>\n",
       "      <td>9763597.300</td>\n",
       "      <td>26233794.370</td>\n",
       "      <td>365880</td>\n",
       "      <td>4452</td>\n",
       "      <td>False</td>\n",
       "      <td>2</td>\n",
       "      <td>365880.000</td>\n",
       "    </tr>\n",
       "    <tr>\n",
       "      <th>6</th>\n",
       "      <td>1</td>\n",
       "      <td>7</td>\n",
       "      <td>TX</td>\n",
       "      <td>28215465.220</td>\n",
       "      <td>8245679.540</td>\n",
       "      <td>14457234.120</td>\n",
       "      <td>365880</td>\n",
       "      <td>4452</td>\n",
       "      <td>False</td>\n",
       "      <td>3</td>\n",
       "      <td>365880.000</td>\n",
       "    </tr>\n",
       "    <tr>\n",
       "      <th>7</th>\n",
       "      <td>1</td>\n",
       "      <td>8</td>\n",
       "      <td>TX</td>\n",
       "      <td>38955413.840</td>\n",
       "      <td>7863853.690</td>\n",
       "      <td>19744464.290</td>\n",
       "      <td>365880</td>\n",
       "      <td>4452</td>\n",
       "      <td>False</td>\n",
       "      <td>3</td>\n",
       "      <td>365880.000</td>\n",
       "    </tr>\n",
       "    <tr>\n",
       "      <th>8</th>\n",
       "      <td>1</td>\n",
       "      <td>9</td>\n",
       "      <td>TX</td>\n",
       "      <td>43602895.190</td>\n",
       "      <td>9067861.360</td>\n",
       "      <td>22138203.510</td>\n",
       "      <td>365880</td>\n",
       "      <td>4452</td>\n",
       "      <td>False</td>\n",
       "      <td>3</td>\n",
       "      <td>365880.000</td>\n",
       "    </tr>\n",
       "    <tr>\n",
       "      <th>9</th>\n",
       "      <td>1</td>\n",
       "      <td>10</td>\n",
       "      <td>TX</td>\n",
       "      <td>52406102.980</td>\n",
       "      <td>9062239.730</td>\n",
       "      <td>26246199.300</td>\n",
       "      <td>365880</td>\n",
       "      <td>4452</td>\n",
       "      <td>False</td>\n",
       "      <td>4</td>\n",
       "      <td>365880.000</td>\n",
       "    </tr>\n",
       "  </tbody>\n",
       "</table>\n",
       "</div>"
      ],
      "text/plain": [
       "   Location number  Month State  Gross revenue   Fixed cost  Variable cost  \\\n",
       "0                1      1    TX   48628171.020  9218156.690   24278189.230   \n",
       "1                1      2    TX   48107179.240 10587747.350   25116844.410   \n",
       "2                1      3    TX   64352278.290 10193873.770   33703499.830   \n",
       "3                1      4    TX   45943677.960  8764165.000   24037719.470   \n",
       "4                1      5    TX   32761434.980  8022116.430   16432119.180   \n",
       "5                1      6    TX   50677036.260  9763597.300   26233794.370   \n",
       "6                1      7    TX   28215465.220  8245679.540   14457234.120   \n",
       "7                1      8    TX   38955413.840  7863853.690   19744464.290   \n",
       "8                1      9    TX   43602895.190  9067861.360   22138203.510   \n",
       "9                1     10    TX   52406102.980  9062239.730   26246199.300   \n",
       "\n",
       "   Rental cost  Number of products  Owned  quarter  \\\n",
       "0       365880                4452  False        1   \n",
       "1       365880                4452  False        1   \n",
       "2       365880                4452  False        1   \n",
       "3       365880                4452  False        2   \n",
       "4       365880                4452  False        2   \n",
       "5       365880                4452  False        2   \n",
       "6       365880                4452  False        3   \n",
       "7       365880                4452  False        3   \n",
       "8       365880                4452  False        3   \n",
       "9       365880                4452  False        4   \n",
       "\n",
       "   imputed_monthly_rental_cost  \n",
       "0                   365880.000  \n",
       "1                   365880.000  \n",
       "2                   365880.000  \n",
       "3                   365880.000  \n",
       "4                   365880.000  \n",
       "5                   365880.000  \n",
       "6                   365880.000  \n",
       "7                   365880.000  \n",
       "8                   365880.000  \n",
       "9                   365880.000  "
      ]
     },
     "execution_count": 54,
     "metadata": {},
     "output_type": "execute_result"
    }
   ],
   "source": [
    "operating_data_df.head(10)"
   ]
  },
  {
   "cell_type": "code",
   "execution_count": 55,
   "metadata": {},
   "outputs": [
    {
     "data": {
      "text/plain": [
       "(333, 8)"
      ]
     },
     "execution_count": 55,
     "metadata": {},
     "output_type": "execute_result"
    }
   ],
   "source": [
    "operations_dict = {'State':'min',\n",
    "                   'Gross revenue':'sum',\n",
    "                   'Fixed cost':'sum',\n",
    "                   'Variable cost':'sum',\n",
    "                   'imputed_monthly_rental_cost':'sum',\n",
    "                   'Number of products':'mean',\n",
    "                   'Owned':'min'}\n",
    "\n",
    "annual_data_w_imputed_rent = operating_data_df.groupby('Location number').agg(operations_dict).reset_index()\n",
    "annual_data_w_imputed_rent.shape"
   ]
  },
  {
   "cell_type": "code",
   "execution_count": 56,
   "metadata": {},
   "outputs": [],
   "source": [
    "annual_data_w_imputed_rent['total_cost'] =annual_data_w_imputed_rent[[x for x in annual_data_w_imputed_rent.columns if 'cost' in x]].sum(axis=1) \n",
    "annual_data_w_imputed_rent['profit'] = annual_data_w_imputed_rent['Gross revenue'] - annual_data_w_imputed_rent['total_cost']\n",
    "annual_data_w_imputed_rent['profit_margin'] = annual_data_w_imputed_rent['profit'] / annual_data_w_imputed_rent['Gross revenue']"
   ]
  },
  {
   "cell_type": "code",
   "execution_count": 57,
   "metadata": {},
   "outputs": [
    {
     "name": "stdout",
     "output_type": "stream",
     "text": [
      "_______________________________________________________________________________\n",
      "\n",
      "Mean rent-adjusted annual profit margin of a typical store is --> 24.81 %\n",
      "_______________________________________________________________________________\n"
     ]
    }
   ],
   "source": [
    "mean_profit_margin_adj = annual_data_w_imputed_rent['profit_margin'].mean()\n",
    "print(\"_______________________________________________________________________________\")\n",
    "print(f\"\\nMean rent-adjusted annual profit margin of a typical store is --> {mean_profit_margin_adj*100:.2f} %\")\n",
    "print(\"_______________________________________________________________________________\")"
   ]
  },
  {
   "cell_type": "code",
   "execution_count": 58,
   "metadata": {},
   "outputs": [
    {
     "name": "stdout",
     "output_type": "stream",
     "text": [
      "_______________________________________________________________________________\n",
      "Median rent-adjusted annual profit margin of a typical store is --> 26.09 %\n",
      "_______________________________________________________________________________\n"
     ]
    }
   ],
   "source": [
    "median_profit_margin_adj = annual_data_w_imputed_rent['profit_margin'].median()\n",
    "print(\"_______________________________________________________________________________\")\n",
    "print(f\"Median rent-adjusted annual profit margin of a typical store is --> {median_profit_margin_adj*100:.2f} %\")\n",
    "print(\"_______________________________________________________________________________\")"
   ]
  },
  {
   "cell_type": "code",
   "execution_count": 59,
   "metadata": {},
   "outputs": [
    {
     "data": {
      "text/html": [
       "<div>\n",
       "<style scoped>\n",
       "    .dataframe tbody tr th:only-of-type {\n",
       "        vertical-align: middle;\n",
       "    }\n",
       "\n",
       "    .dataframe tbody tr th {\n",
       "        vertical-align: top;\n",
       "    }\n",
       "\n",
       "    .dataframe thead th {\n",
       "        text-align: right;\n",
       "    }\n",
       "</style>\n",
       "<table border=\"1\" class=\"dataframe\">\n",
       "  <thead>\n",
       "    <tr style=\"text-align: right;\">\n",
       "      <th></th>\n",
       "      <th>profit_margin</th>\n",
       "    </tr>\n",
       "    <tr>\n",
       "      <th>Owned</th>\n",
       "      <th></th>\n",
       "    </tr>\n",
       "  </thead>\n",
       "  <tbody>\n",
       "    <tr>\n",
       "      <th>False</th>\n",
       "      <td>0.244</td>\n",
       "    </tr>\n",
       "    <tr>\n",
       "      <th>True</th>\n",
       "      <td>0.281</td>\n",
       "    </tr>\n",
       "  </tbody>\n",
       "</table>\n",
       "</div>"
      ],
      "text/plain": [
       "       profit_margin\n",
       "Owned               \n",
       "False          0.244\n",
       "True           0.281"
      ]
     },
     "execution_count": 59,
     "metadata": {},
     "output_type": "execute_result"
    }
   ],
   "source": [
    "annual_data_w_imputed_rent.groupby('Owned').agg({'profit_margin':'mean'})"
   ]
  },
  {
   "cell_type": "markdown",
   "metadata": {},
   "source": [
    "- From the above breakdown we can see that before imputing a rental cost for owned properties, the mean profit margin of owned properties was 28.6 % . After imputing rental cost, the new average profit margin for owned properties drops to 28.1% which is a more accurate value to compare against the profit margins for leased stores."
   ]
  },
  {
   "cell_type": "code",
   "execution_count": 145,
   "metadata": {},
   "outputs": [],
   "source": [
    "operating_data_df.to_csv('operating_data_with_imputed_rent.csv')\n",
    "annual_data_w_imputed_rent.to_csv('annual_data_with_imputed_rent.csv')"
   ]
  },
  {
   "cell_type": "markdown",
   "metadata": {},
   "source": [
    "### The output data with imputed rental rates is used as input to a Tableau model to generate insights on drivers of profit margin and create terse visuals for powerpoints"
   ]
  },
  {
   "cell_type": "code",
   "execution_count": null,
   "metadata": {},
   "outputs": [],
   "source": []
  }
 ],
 "metadata": {
  "kernelspec": {
   "display_name": "Python 3",
   "language": "python",
   "name": "python3"
  },
  "language_info": {
   "codemirror_mode": {
    "name": "ipython",
    "version": 3
   },
   "file_extension": ".py",
   "mimetype": "text/x-python",
   "name": "python",
   "nbconvert_exporter": "python",
   "pygments_lexer": "ipython3",
   "version": "3.6.4"
  }
 },
 "nbformat": 4,
 "nbformat_minor": 2
}
